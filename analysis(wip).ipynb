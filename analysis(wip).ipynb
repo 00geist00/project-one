{
 "cells": [
  {
   "cell_type": "code",
   "execution_count": null,
   "metadata": {},
   "outputs": [],
   "source": [
    "# Dependencies\n",
    "import pandas as pd\n",
    "import matplotlib.pyplot as plt\n",
    "import scipy.stats as sts\n",
    "import numpy as np"
   ]
  },
  {
   "cell_type": "code",
   "execution_count": null,
   "metadata": {},
   "outputs": [],
   "source": [
    "# Store filepath in a variable\n",
    "madden_ratings_csv = \"Resources/Madden_Player_Ratings_2015-2019.csv\""
   ]
  },
  {
   "cell_type": "code",
   "execution_count": null,
   "metadata": {},
   "outputs": [],
   "source": [
    "# Read our Data file with the pandas library\n",
    "# Not every CSV requires an encoding, but be aware this can come up\n",
    "madden_ratings_df = pd.read_csv(madden_ratings_csv, encoding=\"UTF-8\")"
   ]
  },
  {
   "cell_type": "code",
   "execution_count": null,
   "metadata": {},
   "outputs": [],
   "source": [
    "# Show just the header\n",
    "madden_ratings_df.head()"
   ]
  },
  {
   "cell_type": "code",
   "execution_count": null,
   "metadata": {},
   "outputs": [],
   "source": [
    "madden_ratings_df = madden_ratings_df.sort_values(\"Overall\", ascending=False)\n",
    "madden_ratings_df.head()"
   ]
  },
  {
   "cell_type": "code",
   "execution_count": null,
   "metadata": {},
   "outputs": [],
   "source": [
    "#clean any nas\n",
    "madden_ratings_df = madden_ratings_df.dropna(how=\"any\")\n",
    "madden_ratings_df.count()"
   ]
  },
  {
   "cell_type": "code",
   "execution_count": null,
   "metadata": {},
   "outputs": [],
   "source": [
    "madden_ratings_df['Overall'].dtype"
   ]
  },
  {
   "cell_type": "code",
   "execution_count": null,
   "metadata": {},
   "outputs": [],
   "source": [
    "#  Create a new df for each years (2015-2019) data. \n",
    "madden_ratings_2015_df = madden_ratings_df.loc[madden_ratings_df[\"Season Year\"] == 2015]\n",
    "madden_ratings_2016_df = madden_ratings_df.loc[madden_ratings_df[\"Season Year\"] == 2016]\n",
    "madden_ratings_2017_df = madden_ratings_df.loc[madden_ratings_df[\"Season Year\"] == 2017]\n",
    "madden_ratings_2018_df = madden_ratings_df.loc[madden_ratings_df[\"Season Year\"] == 2018]\n",
    "madden_ratings_2019_df = madden_ratings_df.loc[madden_ratings_df[\"Season Year\"] == 2019]"
   ]
  },
  {
   "cell_type": "code",
   "execution_count": null,
   "metadata": {},
   "outputs": [],
   "source": [
    "year_team_groups = madden_ratings_df.groupby(['Season Year','Team'])\n",
    "\n",
    "year_team_groups_total = year_team_groups['Overall'].sum()\n",
    "\n",
    "year_team_overall_df = pd.DataFrame(year_team_groups_total,columns = [\"Overall\"])\n",
    "\n",
    "year_team_overall_df.head(88)"
   ]
  },
  {
   "cell_type": "code",
   "execution_count": null,
   "metadata": {},
   "outputs": [],
   "source": [
    "# Chart our data, give it a title, and label the axes\n",
    "madden_2018_chart = madden_ratings_2018_df.plot(kind=\"bar\", title=\"Total Madden Rating by Team (2018)\")\n",
    "madden_2018_chart.set_xlabel(\"Team\")\n",
    "madden_2018_chart.set_ylabel(\"Total Madden Rating\")\n",
    "\n",
    "madden_ratings_2018_df.sort_values(\"Overall\", inplace=True)\n",
    "\n",
    "plt.show()"
   ]
  },
  {
   "cell_type": "code",
   "execution_count": null,
   "metadata": {},
   "outputs": [],
   "source": [
    "#Scatter plot outline\n",
    "#income = who_data.iloc[:,1]\n",
    "#measles = who_data.iloc[:,12]\n",
    "#correlation = st.pearsonr(income,measles)\n",
    "#plt.scatter(income,measles)\n",
    "#plt.xlabel('Income Per Capita')\n",
    "#plt.ylabel('% Measles Immunization')\n",
    "#print(f\"The correlation between both factors is {round(correlation[0],2)}\")\n",
    "#plt.show()"
   ]
  },
  {
   "cell_type": "code",
   "execution_count": null,
   "metadata": {},
   "outputs": [],
   "source": []
  }
 ],
 "metadata": {
  "anaconda-cloud": {},
  "kernelspec": {
   "display_name": "Python 3",
   "language": "python",
   "name": "python3"
  },
  "language_info": {
   "codemirror_mode": {
    "name": "ipython",
    "version": 3
   },
   "file_extension": ".py",
   "mimetype": "text/x-python",
   "name": "python",
   "nbconvert_exporter": "python",
   "pygments_lexer": "ipython3",
   "version": "3.7.3"
  }
 },
 "nbformat": 4,
 "nbformat_minor": 2
}
