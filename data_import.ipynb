{
 "cells": [
  {
   "cell_type": "markdown",
   "metadata": {},
   "source": [
    "## Dependencies and Datasets Importing"
   ]
  },
  {
   "cell_type": "code",
   "execution_count": 4,
   "metadata": {},
   "outputs": [],
   "source": [
    "# Dependencies\n",
    "%matplotlib inline\n",
    "\n",
    "import matplotlib.pyplot as plt\n",
    "import pandas as pd\n",
    "import numpy as np\n",
    "import scipy as sp\n",
    "import seaborn as sns\n",
    "plt.style.use('seaborn')"
   ]
  },
  {
   "cell_type": "code",
   "execution_count": 5,
   "metadata": {},
   "outputs": [],
   "source": [
    "# Store filepath in a variable\n",
    "madden_ratings_csv = \"Resources/Madden_Player_Ratings_2015-2019.csv\"\n",
    "team_standings_2015_2018_csv = \"Resources/Team_Standings_2015-2018.csv\"\n",
    "player_stats_2015_2018_csv = \"Resources/Player_Stats_2015-2018.csv\""
   ]
  },
  {
   "cell_type": "code",
   "execution_count": 6,
   "metadata": {},
   "outputs": [],
   "source": [
    "# Read our Data file with the pandas library\n",
    "madden_ratings_df = pd.read_csv(madden_ratings_csv, encoding=\"UTF-8\")\n",
    "team_standings_2015_2018_df = pd.read_csv(team_standings_2015_2018_csv, encoding=\"UTF-8\")\n",
    "player_stats_2015_2018_df = pd.read_csv(player_stats_2015_2018_csv, encoding=\"UTF-8\")"
   ]
  },
  {
   "cell_type": "markdown",
   "metadata": {},
   "source": [
    "## Data Cleansing"
   ]
  },
  {
   "cell_type": "code",
   "execution_count": 7,
   "metadata": {},
   "outputs": [],
   "source": [
    "#  Create a new df for each years data for each dataframe \n",
    "madden_ratings_2015_df = madden_ratings_df.loc[madden_ratings_df[\"Season Year\"] == 2015]\n",
    "madden_ratings_2016_df = madden_ratings_df.loc[madden_ratings_df[\"Season Year\"] == 2016]\n",
    "madden_ratings_2017_df = madden_ratings_df.loc[madden_ratings_df[\"Season Year\"] == 2017]\n",
    "madden_ratings_2018_df = madden_ratings_df.loc[madden_ratings_df[\"Season Year\"] == 2018]\n",
    "madden_ratings_2019_df = madden_ratings_df.loc[madden_ratings_df[\"Season Year\"] == 2019]\n",
    "\n",
    "team_standings_2015_df = team_standings_2015_2018_df.loc[team_standings_2015_2018_df[\"Year\"] == 2015]\n",
    "team_standings_2016_df = team_standings_2015_2018_df.loc[team_standings_2015_2018_df[\"Year\"] == 2016]\n",
    "team_standings_2017_df = team_standings_2015_2018_df.loc[team_standings_2015_2018_df[\"Year\"] == 2017]\n",
    "team_standings_2018_df = team_standings_2015_2018_df.loc[team_standings_2015_2018_df[\"Year\"] == 2018]\n",
    "\n",
    "player_stats_2015_df = player_stats_2015_2018_df.loc[player_stats_2015_2018_df[\"Year\"] == 2015]\n",
    "player_stats_2016_df = player_stats_2015_2018_df.loc[player_stats_2015_2018_df[\"Year\"] == 2016]\n",
    "player_stats_2017_df = player_stats_2015_2018_df.loc[player_stats_2015_2018_df[\"Year\"] == 2017]\n",
    "player_stats_2018_df = player_stats_2015_2018_df.loc[player_stats_2015_2018_df[\"Year\"] == 2018]"
   ]
  },
  {
   "cell_type": "code",
   "execution_count": 8,
   "metadata": {},
   "outputs": [],
   "source": [
    "# Rename the column: Full name to Player\n",
    "madden_ratings_2015_df = madden_ratings_2015_df.rename(columns={\"Full Name\" : \"Player\"})\n",
    "madden_ratings_2016_df = madden_ratings_2016_df.rename(columns={\"Full Name\" : \"Player\"})\n",
    "madden_ratings_2017_df = madden_ratings_2017_df.rename(columns={\"Full Name\" : \"Player\"})\n",
    "madden_ratings_2018_df = madden_ratings_2018_df.rename(columns={\"Full Name\" : \"Player\"})\n",
    "madden_ratings_2019_df = madden_ratings_2019_df.rename(columns={\"Full Name\" : \"Player\"})\n",
    "\n",
    "# Drop columns: First Name, Last Name, Season Year\n",
    "madden_ratings_2015_df = madden_ratings_2015_df.drop([\"First Name\", \"Last Name\", \"Season Year\", \"Position\"], axis=1)\n",
    "madden_ratings_2016_df = madden_ratings_2016_df.drop([\"First Name\", \"Last Name\", \"Season Year\", \"Position\"], axis=1)\n",
    "madden_ratings_2017_df = madden_ratings_2017_df.drop([\"First Name\", \"Last Name\", \"Season Year\", \"Position\"], axis=1)\n",
    "madden_ratings_2018_df = madden_ratings_2018_df.drop([\"First Name\", \"Last Name\", \"Season Year\", \"Position\"], axis=1)\n",
    "madden_ratings_2019_df = madden_ratings_2019_df.drop([\"First Name\", \"Last Name\", \"Season Year\", \"Position\"], axis=1)\n"
   ]
  },
  {
   "cell_type": "code",
   "execution_count": 9,
   "metadata": {
    "scrolled": true
   },
   "outputs": [],
   "source": [
    "# Replace the column: FDPt\\n to FDPt\n",
    "player_stats_2015_df = player_stats_2015_df.replace(\"\\n\", \"\")\n",
    "player_stats_2016_df = player_stats_2016_df.replace(\"\\n\", \"\")\n",
    "player_stats_2017_df = player_stats_2017_df.replace(\"\\n\", \"\")\n",
    "player_stats_2018_df = player_stats_2018_df.replace(\"\\n\", \"\")\n",
    "\n",
    "# Drop columns: Tm, Age, Games, Games Started, 2Pt Made, 2Pt Pass, DKPt, FDPt, VBD\n",
    "player_stats_2015_df = player_stats_2015_df.drop([\"Tm\", \"Age\", \"Games\", \"Games Started\", \"2Pt Made\", \"2Pt Pass\", \"DKPt\", \"FDPt\", \"VBD\"], axis=1)\n",
    "player_stats_2016_df = player_stats_2016_df.drop([\"Tm\", \"Age\", \"Games\", \"Games Started\", \"2Pt Made\", \"2Pt Pass\", \"DKPt\", \"FDPt\", \"VBD\"], axis=1)\n",
    "player_stats_2017_df = player_stats_2017_df.drop([\"Tm\", \"Age\", \"Games\", \"Games Started\", \"2Pt Made\", \"2Pt Pass\", \"DKPt\", \"FDPt\", \"VBD\"], axis=1)\n",
    "player_stats_2018_df = player_stats_2018_df.drop([\"Tm\", \"Age\", \"Games\", \"Games Started\", \"2Pt Made\", \"2Pt Pass\", \"DKPt\", \"FDPt\", \"VBD\"], axis=1)\n"
   ]
  },
  {
   "cell_type": "code",
   "execution_count": 10,
   "metadata": {},
   "outputs": [],
   "source": [
    "# Merge dataframes: Madden ratings & Player stats\n",
    "final_2015_df = pd.merge(player_stats_2015_df, madden_ratings_2015_df, on=\"Player\", how=\"outer\")\n",
    "final_2016_df = pd.merge(player_stats_2016_df, madden_ratings_2016_df, on=\"Player\", how=\"outer\")\n",
    "final_2017_df = pd.merge(player_stats_2017_df, madden_ratings_2017_df, on=\"Player\", how=\"outer\")\n",
    "final_2018_df = pd.merge(player_stats_2018_df, madden_ratings_2018_df, on=\"Player\", how=\"outer\")"
   ]
  },
  {
   "cell_type": "code",
   "execution_count": null,
   "metadata": {},
   "outputs": [],
   "source": [
    "# Replace SD to LAC since SD is combined with LAC\n",
    "final_2015_df = final_2015_df.replace(\"SD\", \"LAC\")\n",
    "final_2016_df = final_2016_df.replace(\"SD\", \"LAC\")\n",
    "final_2017_df_df = final_2017_df.replace(\"SD\", \"LAC\")\n",
    "final_2018_df = final_2018_df.replace(\"SD\", \"LAC\")"
   ]
  },
  {
   "cell_type": "markdown",
   "metadata": {},
   "source": [
    "## Data Analysis"
   ]
  },
  {
   "cell_type": "markdown",
   "metadata": {},
   "source": [
    "### Team Level"
   ]
  },
  {
   "cell_type": "code",
   "execution_count": 11,
   "metadata": {
    "scrolled": false
   },
   "outputs": [
    {
     "data": {
      "text/plain": [
       "2015    73.55\n",
       "2016    71.30\n",
       "2017    71.71\n",
       "2018    72.31\n",
       "dtype: float64"
      ]
     },
     "execution_count": 11,
     "metadata": {},
     "output_type": "execute_result"
    }
   ],
   "source": [
    "# Calculate the average overall points for all teams in each year\n",
    "overall_2015 = final_2015_df[\"Overall\"].mean()\n",
    "overall_2016 = final_2016_df[\"Overall\"].mean()\n",
    "overall_2017 = final_2017_df[\"Overall\"].mean()\n",
    "overall_2018 = final_2018_df[\"Overall\"].mean()\n",
    "\n",
    "overall_summary = round(pd.Series([overall_2015, overall_2016, overall_2017, overall_2018], [\"2015\", \"2016\", \"2017\", \"2018\"]), 2)\n",
    "\n",
    "overall_summary\n"
   ]
  },
  {
   "cell_type": "code",
   "execution_count": 12,
   "metadata": {},
   "outputs": [
    {
     "data": {
      "image/png": "[encoded data removed]",
      "text/plain": [
       "<Figure size 576x396 with 1 Axes>"
      ]
     },
     "metadata": {},
     "output_type": "display_data"
    }
   ],
   "source": [
    "# Create the barchart\n",
    "x_axis = np.arange(0, 4, 1)\n",
    "color_2015 = \"#00896C\"\n",
    "color_2016 = \"#E16B8C\"\n",
    "color_2017 = \"#F17C67\"\n",
    "color_2018 = \"#33A6B8\"\n",
    "bar_width = 0.8\n",
    "\n",
    "# Set the condition\n",
    "year2015 = overall_summary == 73.55\n",
    "year2016 = overall_summary == 71.30\n",
    "year2017 = overall_summary == 71.71\n",
    "year2018 = overall_summary == 72.31\n",
    "\n",
    "# Set elements to create a chart\n",
    "fig, ax = plt.subplots()\n",
    "ax.set_xlim(-0.1, len(x_axis))\n",
    "ax.set_ylim(min(overall_summary)-0.3, max(overall_summary)+0.3)\n",
    "ax.set_xlabel(\"Year\", fontsize=14)\n",
    "ax.set_ylabel(\"\")\n",
    "ax.set_title(\"Average Overall Points for All Teams\", fontsize = 16)\n",
    "ax.set_xticks([x+0.5 for x in x_axis])\n",
    "ax.set_xticklabels(overall_summary.index)\n",
    "ax.tick_params(direction=\"out\", length=5, width=1, color=\"#1C1C1C\", axis=\"both\", pad=2)\n",
    "\n",
    "bar2015 = ax.bar(x_axis[year2015], overall_summary[year2015], color=color_2015, width=bar_width, align=\"edge\")\n",
    "bar2016 = ax.bar(x_axis[year2016], overall_summary[year2016], color=color_2016, width=bar_width, align=\"edge\")\n",
    "bar2017 = ax.bar(x_axis[year2017], overall_summary[year2017], color=color_2017, width=bar_width, align=\"edge\")\n",
    "bar2018 = ax.bar(x_axis[year2018], overall_summary[year2018], color=color_2018, width=bar_width, align=\"edge\")\n",
    "\n",
    "# Put numbers for each year in each bar\n",
    "def label(point):\n",
    "    for x in point:\n",
    "        bar_height = x.get_height()\n",
    "        bar_format = \"{0:.2f}\".format(bar_height)\n",
    "        ax.text(x.get_x() + x.get_width()/2, 1*bar_height, bar_format, ha=\"center\", va=\"bottom\")\n",
    "        \n",
    "label(bar2015)\n",
    "label(bar2016)\n",
    "label(bar2017)\n",
    "label(bar2018)\n",
    "\n",
    "fig.savefig(\"Figure1 - Average Overall Points\")"
   ]
  },
  {
   "cell_type": "code",
   "execution_count": 72,
   "metadata": {
    "scrolled": true
   },
   "outputs": [
    {
     "data": {
      "text/html": [
       "<div>\n",
       "<style scoped>\n",
       "    .dataframe tbody tr th:only-of-type {\n",
       "        vertical-align: middle;\n",
       "    }\n",
       "\n",
       "    .dataframe tbody tr th {\n",
       "        vertical-align: top;\n",
       "    }\n",
       "\n",
       "    .dataframe thead th {\n",
       "        text-align: right;\n",
       "    }\n",
       "</style>\n",
       "<table border=\"1\" class=\"dataframe\">\n",
       "  <thead>\n",
       "    <tr style=\"text-align: right;\">\n",
       "      <th></th>\n",
       "      <th>2015</th>\n",
       "      <th>2016</th>\n",
       "      <th>2017</th>\n",
       "      <th>2018</th>\n",
       "      <th>Total Avg</th>\n",
       "    </tr>\n",
       "  </thead>\n",
       "  <tbody>\n",
       "    <tr>\n",
       "      <th>ARI</th>\n",
       "      <td>73.35</td>\n",
       "      <td>71.45</td>\n",
       "      <td>70.97</td>\n",
       "      <td>69.99</td>\n",
       "      <td>71.44</td>\n",
       "    </tr>\n",
       "    <tr>\n",
       "      <th>ATL</th>\n",
       "      <td>73.58</td>\n",
       "      <td>70.99</td>\n",
       "      <td>72.21</td>\n",
       "      <td>72.19</td>\n",
       "      <td>72.24</td>\n",
       "    </tr>\n",
       "    <tr>\n",
       "      <th>BAL</th>\n",
       "      <td>74.10</td>\n",
       "      <td>72.66</td>\n",
       "      <td>71.36</td>\n",
       "      <td>72.77</td>\n",
       "      <td>72.72</td>\n",
       "    </tr>\n",
       "    <tr>\n",
       "      <th>BUF</th>\n",
       "      <td>73.22</td>\n",
       "      <td>72.35</td>\n",
       "      <td>71.83</td>\n",
       "      <td>71.92</td>\n",
       "      <td>72.33</td>\n",
       "    </tr>\n",
       "    <tr>\n",
       "      <th>CAR</th>\n",
       "      <td>73.77</td>\n",
       "      <td>72.03</td>\n",
       "      <td>72.03</td>\n",
       "      <td>72.00</td>\n",
       "      <td>72.46</td>\n",
       "    </tr>\n",
       "  </tbody>\n",
       "</table>\n",
       "</div>"
      ],
      "text/plain": [
       "      2015   2016   2017   2018  Total Avg\n",
       "ARI  73.35  71.45  70.97  69.99      71.44\n",
       "ATL  73.58  70.99  72.21  72.19      72.24\n",
       "BAL  74.10  72.66  71.36  72.77      72.72\n",
       "BUF  73.22  72.35  71.83  71.92      72.33\n",
       "CAR  73.77  72.03  72.03  72.00      72.46"
      ]
     },
     "execution_count": 72,
     "metadata": {},
     "output_type": "execute_result"
    }
   ],
   "source": [
    "# Create subgroups for the average overall points of each team in each year\n",
    "team_overall_2015 = final_2015_df.groupby([\"Team\"])[\"Overall\"].mean()\n",
    "team_overall_2016 = final_2016_df.groupby([\"Team\"])[\"Overall\"].mean()\n",
    "team_overall_2017 = final_2017_df.groupby([\"Team\"])[\"Overall\"].mean()\n",
    "team_overall_2018 = final_2018_df.groupby([\"Team\"])[\"Overall\"].mean()\n",
    "\n",
    "# Put the average overall points into a dataframe & Round the results to 2 decimal place\n",
    "team_overall_summary = round(pd.DataFrame({\"2015\" : team_overall_2015,\n",
    "                        \"2016\" : team_overall_2016,\n",
    "                        \"2017\" : team_overall_2017,\n",
    "                        \"2018\" : team_overall_2018}), 2)\n",
    "\n",
    "# Calculate the overall average for each team in 4 years\n",
    "team_overall_summary[\"Total Avg\"] = round(team_overall_summary.agg([\"mean\"], axis=\"columns\"), 2)\n",
    "\n",
    "team_overall_summary.head()"
   ]
  },
  {
   "cell_type": "code",
   "execution_count": 101,
   "metadata": {},
   "outputs": [],
   "source": [
    "# Replace the team name: PHL to PHI\n",
    "team_standings_2015_df = team_standings_2015_df.replace(\"PHL\", \"PHI\")\n",
    "team_standings_2016_df = team_standings_2016_df.replace(\"PHL\", \"PHI\")\n",
    "team_standings_2017_df = team_standings_2017_df.replace(\"PHL\", \"PHI\")\n",
    "team_standings_2018_df = team_standings_2018_df.replace(\"PHL\", \"PHI\")\n",
    "\n",
    "# Replace nan in Playoff Rank with zero\n",
    "team_standings_2015_df[\"Playoff Rank\"] = team_standings_2015_df[\"Playoff Rank\"].fillna(0)\n",
    "team_standings_2016_df[\"Playoff Rank\"] = team_standings_2016_df[\"Playoff Rank\"].fillna(0)\n",
    "team_standings_2017_df[\"Playoff Rank\"] = team_standings_2017_df[\"Playoff Rank\"].fillna(0)\n",
    "team_standings_2018_df[\"Playoff Rank\"] = team_standings_2018_df[\"Playoff Rank\"].fillna(0)\n",
    "\n",
    "# Convert float to integer\n",
    "team_standings_2015_df[\"Playoff Rank\"] = team_standings_2015_df[\"Playoff Rank\"].astype(int)\n",
    "team_standings_2016_df[\"Playoff Rank\"] = team_standings_2016_df[\"Playoff Rank\"].astype(int)\n",
    "team_standings_2017_df[\"Playoff Rank\"] = team_standings_2017_df[\"Playoff Rank\"].astype(int)\n",
    "team_standings_2018_df[\"Playoff Rank\"] = team_standings_2018_df[\"Playoff Rank\"].astype(int)\n"
   ]
  },
  {
   "cell_type": "code",
   "execution_count": 108,
   "metadata": {},
   "outputs": [
    {
     "data": {
      "text/html": [
       "<div>\n",
       "<style scoped>\n",
       "    .dataframe tbody tr th:only-of-type {\n",
       "        vertical-align: middle;\n",
       "    }\n",
       "\n",
       "    .dataframe tbody tr th {\n",
       "        vertical-align: top;\n",
       "    }\n",
       "\n",
       "    .dataframe thead th {\n",
       "        text-align: right;\n",
       "    }\n",
       "</style>\n",
       "<table border=\"1\" class=\"dataframe\">\n",
       "  <thead>\n",
       "    <tr style=\"text-align: right;\">\n",
       "      <th></th>\n",
       "      <th>Year</th>\n",
       "      <th>Team</th>\n",
       "      <th>Team Mascot</th>\n",
       "      <th>W</th>\n",
       "      <th>L</th>\n",
       "      <th>T</th>\n",
       "      <th>W-L%</th>\n",
       "      <th>PF</th>\n",
       "      <th>PA</th>\n",
       "      <th>PD</th>\n",
       "      <th>MoV</th>\n",
       "      <th>SoS</th>\n",
       "      <th>SRS</th>\n",
       "      <th>OSRS</th>\n",
       "      <th>DSRS</th>\n",
       "      <th>Playoff Rank</th>\n",
       "    </tr>\n",
       "  </thead>\n",
       "  <tbody>\n",
       "    <tr>\n",
       "      <th>96</th>\n",
       "      <td>2015</td>\n",
       "      <td>CAR</td>\n",
       "      <td>Panthers</td>\n",
       "      <td>15</td>\n",
       "      <td>1</td>\n",
       "      <td>0</td>\n",
       "      <td>0.938</td>\n",
       "      <td>500</td>\n",
       "      <td>308</td>\n",
       "      <td>192</td>\n",
       "      <td>12.0</td>\n",
       "      <td>-3.9</td>\n",
       "      <td>8.1</td>\n",
       "      <td>6.0</td>\n",
       "      <td>2.1</td>\n",
       "      <td>2</td>\n",
       "    </tr>\n",
       "    <tr>\n",
       "      <th>97</th>\n",
       "      <td>2015</td>\n",
       "      <td>ARI</td>\n",
       "      <td>Cardinals</td>\n",
       "      <td>13</td>\n",
       "      <td>3</td>\n",
       "      <td>0</td>\n",
       "      <td>0.813</td>\n",
       "      <td>489</td>\n",
       "      <td>313</td>\n",
       "      <td>176</td>\n",
       "      <td>11.0</td>\n",
       "      <td>1.3</td>\n",
       "      <td>12.3</td>\n",
       "      <td>9.0</td>\n",
       "      <td>3.4</td>\n",
       "      <td>3</td>\n",
       "    </tr>\n",
       "    <tr>\n",
       "      <th>98</th>\n",
       "      <td>2015</td>\n",
       "      <td>NE</td>\n",
       "      <td>Patriots</td>\n",
       "      <td>12</td>\n",
       "      <td>4</td>\n",
       "      <td>0</td>\n",
       "      <td>0.750</td>\n",
       "      <td>465</td>\n",
       "      <td>315</td>\n",
       "      <td>150</td>\n",
       "      <td>9.4</td>\n",
       "      <td>-2.4</td>\n",
       "      <td>7.0</td>\n",
       "      <td>5.3</td>\n",
       "      <td>1.7</td>\n",
       "      <td>3</td>\n",
       "    </tr>\n",
       "    <tr>\n",
       "      <th>99</th>\n",
       "      <td>2015</td>\n",
       "      <td>CIN</td>\n",
       "      <td>Bengals</td>\n",
       "      <td>12</td>\n",
       "      <td>4</td>\n",
       "      <td>0</td>\n",
       "      <td>0.750</td>\n",
       "      <td>419</td>\n",
       "      <td>279</td>\n",
       "      <td>140</td>\n",
       "      <td>8.8</td>\n",
       "      <td>1.9</td>\n",
       "      <td>10.6</td>\n",
       "      <td>4.8</td>\n",
       "      <td>5.8</td>\n",
       "      <td>5</td>\n",
       "    </tr>\n",
       "    <tr>\n",
       "      <th>100</th>\n",
       "      <td>2015</td>\n",
       "      <td>DEN</td>\n",
       "      <td>Broncos</td>\n",
       "      <td>12</td>\n",
       "      <td>4</td>\n",
       "      <td>0</td>\n",
       "      <td>0.750</td>\n",
       "      <td>355</td>\n",
       "      <td>296</td>\n",
       "      <td>59</td>\n",
       "      <td>3.7</td>\n",
       "      <td>2.1</td>\n",
       "      <td>5.8</td>\n",
       "      <td>0.3</td>\n",
       "      <td>5.5</td>\n",
       "      <td>1</td>\n",
       "    </tr>\n",
       "  </tbody>\n",
       "</table>\n",
       "</div>"
      ],
      "text/plain": [
       "     Year Team Team Mascot   W  L  T   W-L%   PF   PA   PD   MoV  SoS   SRS  \\\n",
       "96   2015  CAR    Panthers  15  1  0  0.938  500  308  192  12.0 -3.9   8.1   \n",
       "97   2015  ARI   Cardinals  13  3  0  0.813  489  313  176  11.0  1.3  12.3   \n",
       "98   2015   NE    Patriots  12  4  0  0.750  465  315  150   9.4 -2.4   7.0   \n",
       "99   2015  CIN     Bengals  12  4  0  0.750  419  279  140   8.8  1.9  10.6   \n",
       "100  2015  DEN     Broncos  12  4  0  0.750  355  296   59   3.7  2.1   5.8   \n",
       "\n",
       "     OSRS  DSRS  Playoff Rank  \n",
       "96    6.0   2.1             2  \n",
       "97    9.0   3.4             3  \n",
       "98    5.3   1.7             3  \n",
       "99    4.8   5.8             5  \n",
       "100   0.3   5.5             1  "
      ]
     },
     "execution_count": 108,
     "metadata": {},
     "output_type": "execute_result"
    }
   ],
   "source": [
    "team_standings_2015_df.head()"
   ]
  },
  {
   "cell_type": "code",
   "execution_count": 116,
   "metadata": {},
   "outputs": [
    {
     "data": {
      "text/html": [
       "<div>\n",
       "<style scoped>\n",
       "    .dataframe tbody tr th:only-of-type {\n",
       "        vertical-align: middle;\n",
       "    }\n",
       "\n",
       "    .dataframe tbody tr th {\n",
       "        vertical-align: top;\n",
       "    }\n",
       "\n",
       "    .dataframe thead th {\n",
       "        text-align: right;\n",
       "    }\n",
       "</style>\n",
       "<table border=\"1\" class=\"dataframe\">\n",
       "  <thead>\n",
       "    <tr style=\"text-align: right;\">\n",
       "      <th></th>\n",
       "      <th>2015</th>\n",
       "      <th>2016</th>\n",
       "      <th>2017</th>\n",
       "      <th>2018</th>\n",
       "    </tr>\n",
       "  </thead>\n",
       "  <tbody>\n",
       "    <tr>\n",
       "      <th>ARI</th>\n",
       "      <td>13.0</td>\n",
       "      <td>7.0</td>\n",
       "      <td>8.0</td>\n",
       "      <td>3.0</td>\n",
       "    </tr>\n",
       "    <tr>\n",
       "      <th>ATL</th>\n",
       "      <td>8.0</td>\n",
       "      <td>11.0</td>\n",
       "      <td>10.0</td>\n",
       "      <td>7.0</td>\n",
       "    </tr>\n",
       "    <tr>\n",
       "      <th>BAL</th>\n",
       "      <td>5.0</td>\n",
       "      <td>8.0</td>\n",
       "      <td>9.0</td>\n",
       "      <td>10.0</td>\n",
       "    </tr>\n",
       "    <tr>\n",
       "      <th>BUF</th>\n",
       "      <td>8.0</td>\n",
       "      <td>7.0</td>\n",
       "      <td>9.0</td>\n",
       "      <td>6.0</td>\n",
       "    </tr>\n",
       "    <tr>\n",
       "      <th>CAR</th>\n",
       "      <td>15.0</td>\n",
       "      <td>6.0</td>\n",
       "      <td>11.0</td>\n",
       "      <td>7.0</td>\n",
       "    </tr>\n",
       "  </tbody>\n",
       "</table>\n",
       "</div>"
      ],
      "text/plain": [
       "     2015  2016  2017  2018\n",
       "ARI  13.0   7.0   8.0   3.0\n",
       "ATL   8.0  11.0  10.0   7.0\n",
       "BAL   5.0   8.0   9.0  10.0\n",
       "BUF   8.0   7.0   9.0   6.0\n",
       "CAR  15.0   6.0  11.0   7.0"
      ]
     },
     "execution_count": 116,
     "metadata": {},
     "output_type": "execute_result"
    }
   ],
   "source": [
    "win_2015 = team_standings_2015_df.groupby([\"Team\"])[\"W\"].mean()\n",
    "win_2016 = team_standings_2016_df.groupby([\"Team\"])[\"W\"].mean()\n",
    "win_2017 = team_standings_2017_df.groupby([\"Team\"])[\"W\"].mean()\n",
    "win_2018 = team_standings_2018_df.groupby([\"Team\"])[\"W\"].mean()\n",
    "\n",
    "win_summary = pd.DataFrame({\"2015\" : win_2015,\n",
    "                        \"2016\" : win_2016,\n",
    "                        \"2017\" : win_2017,\n",
    "                        \"2018\" : win_2018})\n",
    "\n",
    "win_summary.head()"
   ]
  },
  {
   "cell_type": "code",
   "execution_count": null,
   "metadata": {},
   "outputs": [],
   "source": []
  },
  {
   "cell_type": "code",
   "execution_count": null,
   "metadata": {},
   "outputs": [],
   "source": []
  },
  {
   "cell_type": "code",
   "execution_count": null,
   "metadata": {},
   "outputs": [],
   "source": []
  },
  {
   "cell_type": "code",
   "execution_count": null,
   "metadata": {},
   "outputs": [],
   "source": []
  },
  {
   "cell_type": "code",
   "execution_count": null,
   "metadata": {},
   "outputs": [],
   "source": []
  },
  {
   "cell_type": "code",
   "execution_count": null,
   "metadata": {},
   "outputs": [],
   "source": []
  },
  {
   "cell_type": "code",
   "execution_count": null,
   "metadata": {},
   "outputs": [],
   "source": []
  },
  {
   "cell_type": "code",
   "execution_count": null,
   "metadata": {},
   "outputs": [],
   "source": []
  },
  {
   "cell_type": "code",
   "execution_count": null,
   "metadata": {},
   "outputs": [],
   "source": []
  },
  {
   "cell_type": "code",
   "execution_count": null,
   "metadata": {},
   "outputs": [],
   "source": []
  },
  {
   "cell_type": "code",
   "execution_count": null,
   "metadata": {},
   "outputs": [],
   "source": []
  },
  {
   "cell_type": "code",
   "execution_count": null,
   "metadata": {},
   "outputs": [],
   "source": []
  },
  {
   "cell_type": "code",
   "execution_count": null,
   "metadata": {},
   "outputs": [],
   "source": []
  },
  {
   "cell_type": "code",
   "execution_count": null,
   "metadata": {},
   "outputs": [],
   "source": []
  },
  {
   "cell_type": "code",
   "execution_count": null,
   "metadata": {},
   "outputs": [],
   "source": []
  },
  {
   "cell_type": "code",
   "execution_count": null,
   "metadata": {},
   "outputs": [],
   "source": []
  },
  {
   "cell_type": "code",
   "execution_count": null,
   "metadata": {},
   "outputs": [],
   "source": []
  },
  {
   "cell_type": "code",
   "execution_count": null,
   "metadata": {},
   "outputs": [],
   "source": []
  }
 ],
 "metadata": {
  "anaconda-cloud": {},
  "kernelspec": {
   "display_name": "Python 3",
   "language": "python",
   "name": "python3"
  },
  "language_info": {
   "codemirror_mode": {
    "name": "ipython",
    "version": 3
   },
   "file_extension": ".py",
   "mimetype": "text/x-python",
   "name": "python",
   "nbconvert_exporter": "python",
   "pygments_lexer": "ipython3",
   "version": "3.7.3"
  }
 },
 "nbformat": 4,
 "nbformat_minor": 2
}
