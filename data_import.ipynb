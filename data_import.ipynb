{
 "cells": [
  {
   "cell_type": "markdown",
   "metadata": {},
   "source": [
    "## Dependencies and Datasets Importing"
   ]
  },
  {
   "cell_type": "code",
   "execution_count": 1,
   "metadata": {},
   "outputs": [],
   "source": [
    "# Dependencies\n",
    "%matplotlib inline\n",
    "\n",
    "import matplotlib.pyplot as plt\n",
    "import pandas as pd\n",
    "import numpy as np\n",
    "import scipy as sp\n",
    "import seaborn as sns\n",
    "plt.style.use('seaborn')"
   ]
  },
  {
   "cell_type": "code",
   "execution_count": 2,
   "metadata": {},
   "outputs": [],
   "source": [
    "# Store filepath in a variable\n",
    "madden_ratings_csv = \"Resources/Madden_Player_Ratings_2015-2019.csv\"\n",
    "team_standings_2015_2018_csv = \"Resources/Team_Standings_2015-2018.csv\"\n",
    "player_stats_2015_2018_csv = \"Resources/Player_Stats_2015-2018.csv\""
   ]
  },
  {
   "cell_type": "code",
   "execution_count": 3,
   "metadata": {},
   "outputs": [],
   "source": [
    "# Read our Data file with the pandas library\n",
    "madden_ratings_df = pd.read_csv(madden_ratings_csv, encoding=\"UTF-8\")\n",
    "team_standings_2015_2018_df = pd.read_csv(team_standings_2015_2018_csv, encoding=\"UTF-8\")\n",
    "player_stats_2015_2018_df = pd.read_csv(player_stats_2015_2018_csv, encoding=\"UTF-8\")"
   ]
  },
  {
   "cell_type": "markdown",
   "metadata": {},
   "source": [
    "## Data Cleansing"
   ]
  },
  {
   "cell_type": "code",
   "execution_count": 4,
   "metadata": {},
   "outputs": [],
   "source": [
    "#  Create a new df for each years data for each dataframe \n",
    "madden_ratings_2015_df = madden_ratings_df.loc[madden_ratings_df[\"Season Year\"] == 2015]\n",
    "madden_ratings_2016_df = madden_ratings_df.loc[madden_ratings_df[\"Season Year\"] == 2016]\n",
    "madden_ratings_2017_df = madden_ratings_df.loc[madden_ratings_df[\"Season Year\"] == 2017]\n",
    "madden_ratings_2018_df = madden_ratings_df.loc[madden_ratings_df[\"Season Year\"] == 2018]\n",
    "madden_ratings_2019_df = madden_ratings_df.loc[madden_ratings_df[\"Season Year\"] == 2019]\n",
    "\n",
    "team_standings_2015_df = team_standings_2015_2018_df.loc[team_standings_2015_2018_df[\"Year\"] == 2015]\n",
    "team_standings_2016_df = team_standings_2015_2018_df.loc[team_standings_2015_2018_df[\"Year\"] == 2016]\n",
    "team_standings_2017_df = team_standings_2015_2018_df.loc[team_standings_2015_2018_df[\"Year\"] == 2017]\n",
    "team_standings_2018_df = team_standings_2015_2018_df.loc[team_standings_2015_2018_df[\"Year\"] == 2018]\n",
    "\n",
    "player_stats_2015_df = player_stats_2015_2018_df.loc[player_stats_2015_2018_df[\"Year\"] == 2015]\n",
    "player_stats_2016_df = player_stats_2015_2018_df.loc[player_stats_2015_2018_df[\"Year\"] == 2016]\n",
    "player_stats_2017_df = player_stats_2015_2018_df.loc[player_stats_2015_2018_df[\"Year\"] == 2017]\n",
    "player_stats_2018_df = player_stats_2015_2018_df.loc[player_stats_2015_2018_df[\"Year\"] == 2018]"
   ]
  },
  {
   "cell_type": "code",
   "execution_count": 5,
   "metadata": {},
   "outputs": [],
   "source": [
    "# Rename the column: Full name to Player\n",
    "madden_ratings_2015_df = madden_ratings_2015_df.rename(columns={\"Full Name\" : \"Player\"})\n",
    "madden_ratings_2016_df = madden_ratings_2016_df.rename(columns={\"Full Name\" : \"Player\"})\n",
    "madden_ratings_2017_df = madden_ratings_2017_df.rename(columns={\"Full Name\" : \"Player\"})\n",
    "madden_ratings_2018_df = madden_ratings_2018_df.rename(columns={\"Full Name\" : \"Player\"})\n",
    "madden_ratings_2019_df = madden_ratings_2019_df.rename(columns={\"Full Name\" : \"Player\"})\n",
    "\n",
    "# Drop columns: First Name, Last Name, Season Year\n",
    "madden_ratings_2015_df = madden_ratings_2015_df.drop([\"First Name\", \"Last Name\", \"Season Year\", \"Position\"], axis=1)\n",
    "madden_ratings_2016_df = madden_ratings_2016_df.drop([\"First Name\", \"Last Name\", \"Season Year\", \"Position\"], axis=1)\n",
    "madden_ratings_2017_df = madden_ratings_2017_df.drop([\"First Name\", \"Last Name\", \"Season Year\", \"Position\"], axis=1)\n",
    "madden_ratings_2018_df = madden_ratings_2018_df.drop([\"First Name\", \"Last Name\", \"Season Year\", \"Position\"], axis=1)\n",
    "madden_ratings_2019_df = madden_ratings_2019_df.drop([\"First Name\", \"Last Name\", \"Season Year\", \"Position\"], axis=1)\n"
   ]
  },
  {
   "cell_type": "code",
   "execution_count": 6,
   "metadata": {
    "scrolled": true
   },
   "outputs": [],
   "source": [
    "# Replace the column: FDPt\\n to FDPt\n",
    "player_stats_2015_df = player_stats_2015_df.replace(\"\\n\", \"\")\n",
    "player_stats_2016_df = player_stats_2016_df.replace(\"\\n\", \"\")\n",
    "player_stats_2017_df = player_stats_2017_df.replace(\"\\n\", \"\")\n",
    "player_stats_2018_df = player_stats_2018_df.replace(\"\\n\", \"\")\n",
    "\n",
    "# Drop columns: Tm, Age, Games, Games Started, 2Pt Made, 2Pt Pass, DKPt, FDPt, VBD\n",
    "player_stats_2015_df = player_stats_2015_df.drop([\"Tm\", \"Age\", \"Games\", \"Games Started\", \"2Pt Made\", \"2Pt Pass\", \"DKPt\", \"FDPt\", \"VBD\"], axis=1)\n",
    "player_stats_2016_df = player_stats_2016_df.drop([\"Tm\", \"Age\", \"Games\", \"Games Started\", \"2Pt Made\", \"2Pt Pass\", \"DKPt\", \"FDPt\", \"VBD\"], axis=1)\n",
    "player_stats_2017_df = player_stats_2017_df.drop([\"Tm\", \"Age\", \"Games\", \"Games Started\", \"2Pt Made\", \"2Pt Pass\", \"DKPt\", \"FDPt\", \"VBD\"], axis=1)\n",
    "player_stats_2018_df = player_stats_2018_df.drop([\"Tm\", \"Age\", \"Games\", \"Games Started\", \"2Pt Made\", \"2Pt Pass\", \"DKPt\", \"FDPt\", \"VBD\"], axis=1)\n"
   ]
  },
  {
   "cell_type": "code",
   "execution_count": 7,
   "metadata": {},
   "outputs": [],
   "source": [
    "# Merge dataframes: Madden ratings & Player stats\n",
    "final_2015_df = pd.merge(player_stats_2015_df, madden_ratings_2015_df, on=\"Player\", how=\"outer\")\n",
    "final_2016_df = pd.merge(player_stats_2016_df, madden_ratings_2016_df, on=\"Player\", how=\"outer\")\n",
    "final_2017_df = pd.merge(player_stats_2017_df, madden_ratings_2017_df, on=\"Player\", how=\"outer\")\n",
    "final_2018_df = pd.merge(player_stats_2018_df, madden_ratings_2018_df, on=\"Player\", how=\"outer\")"
   ]
  },
  {
   "cell_type": "code",
   "execution_count": 9,
   "metadata": {},
   "outputs": [],
   "source": [
    "# Replace team names: SD to LAC & NYJ to NJY\n",
    "final_2015_df = final_2015_df.replace(\"SD\", \"LAC\")\n",
    "final_2016_df = final_2016_df.replace(\"SD\", \"LAC\")\n",
    "final_2017_df = final_2017_df.replace(\"SD\", \"LAC\")\n",
    "final_2018_df = final_2018_df.replace(\"SD\", \"LAC\")\n",
    "\n",
    "final_2015_df = final_2015_df.replace(\"NYJ\", \"NJY\")\n",
    "final_2016_df = final_2016_df.replace(\"NYJ\", \"NJY\")\n",
    "final_2017_df = final_2017_df.replace(\"NYJ\", \"NJY\")\n",
    "final_2018_df = final_2018_df.replace(\"NYJ\", \"NJY\")\n"
   ]
  },
  {
   "cell_type": "markdown",
   "metadata": {},
   "source": [
    "## Data Analysis"
   ]
  },
  {
   "cell_type": "markdown",
   "metadata": {},
   "source": [
    "### Team Level"
   ]
  },
  {
   "cell_type": "code",
   "execution_count": 10,
   "metadata": {
    "scrolled": false
   },
   "outputs": [
    {
     "data": {
      "text/plain": [
       "2015    73.55\n",
       "2016    71.30\n",
       "2017    71.71\n",
       "2018    72.31\n",
       "dtype: float64"
      ]
     },
     "execution_count": 10,
     "metadata": {},
     "output_type": "execute_result"
    }
   ],
   "source": [
    "# Calculate the average overall points for all teams in each year\n",
    "overall_2015 = final_2015_df[\"Overall\"].mean()\n",
    "overall_2016 = final_2016_df[\"Overall\"].mean()\n",
    "overall_2017 = final_2017_df[\"Overall\"].mean()\n",
    "overall_2018 = final_2018_df[\"Overall\"].mean()\n",
    "\n",
    "overall_summary = round(pd.Series([overall_2015, overall_2016, overall_2017, overall_2018], [\"2015\", \"2016\", \"2017\", \"2018\"]), 2)\n",
    "\n",
    "overall_summary\n"
   ]
  },
  {
   "cell_type": "code",
   "execution_count": 52,
   "metadata": {},
   "outputs": [
    {
     "data": {
      "image/png": "[encoded data removed]",
      "text/plain": [
       "<Figure size 576x360 with 1 Axes>"
      ]
     },
     "metadata": {
      "needs_background": "light"
     },
     "output_type": "display_data"
    }
   ],
   "source": [
    "# Create the barchart\n",
    "x_axis = np.arange(0, 4, 1)\n",
    "color_2015 = \"#00896C\"\n",
    "color_2016 = \"#E16B8C\"\n",
    "color_2017 = \"#F17C67\"\n",
    "color_2018 = \"#33A6B8\"\n",
    "bar_width = 0.8\n",
    "\n",
    "# Set the condition\n",
    "year2015 = overall_summary == 73.55\n",
    "year2016 = overall_summary == 71.30\n",
    "year2017 = overall_summary == 71.71\n",
    "year2018 = overall_summary == 72.31\n",
    "\n",
    "# Set elements to create a chart\n",
    "fig, ax = plt.subplots(figsize=(8, 5))\n",
    "ax.set_xlim(-0.1, len(x_axis))\n",
    "ax.set_ylim(min(overall_summary)-0.3, max(overall_summary)+0.3)\n",
    "ax.set_xlabel(\"Year\", fontsize=14)\n",
    "ax.set_ylabel(\"\")\n",
    "ax.set_title(\"Average Overall Points for All Teams\", fontsize = 16)\n",
    "ax.set_xticks([x+0.5 for x in x_axis])\n",
    "ax.set_xticklabels(overall_summary.index)\n",
    "ax.tick_params(direction=\"out\", length=5, width=1, color=\"#1C1C1C\", axis=\"both\", pad=2)\n",
    "\n",
    "bar2015 = ax.bar(x_axis[year2015], overall_summary[year2015], color=color_2015, width=bar_width, align=\"edge\")\n",
    "bar2016 = ax.bar(x_axis[year2016], overall_summary[year2016], color=color_2016, width=bar_width, align=\"edge\")\n",
    "bar2017 = ax.bar(x_axis[year2017], overall_summary[year2017], color=color_2017, width=bar_width, align=\"edge\")\n",
    "bar2018 = ax.bar(x_axis[year2018], overall_summary[year2018], color=color_2018, width=bar_width, align=\"edge\")\n",
    "\n",
    "# Put numbers for each year in each bar\n",
    "def label(point):\n",
    "    for x in point:\n",
    "        bar_height = x.get_height()\n",
    "        bar_format = \"{0:.2f}\".format(bar_height)\n",
    "        ax.text(x.get_x() + x.get_width()/2, 1*bar_height, bar_format, ha=\"center\", va=\"bottom\")\n",
    "        \n",
    "label(bar2015)\n",
    "label(bar2016)\n",
    "label(bar2017)\n",
    "label(bar2018)\n",
    "\n",
    "fig.savefig(\"Figure1 - Average Overall Points\")"
   ]
  },
  {
   "cell_type": "code",
   "execution_count": 88,
   "metadata": {
    "scrolled": true
   },
   "outputs": [
    {
     "data": {
      "text/html": [
       "<div>\n",
       "<style scoped>\n",
       "    .dataframe tbody tr th:only-of-type {\n",
       "        vertical-align: middle;\n",
       "    }\n",
       "\n",
       "    .dataframe tbody tr th {\n",
       "        vertical-align: top;\n",
       "    }\n",
       "\n",
       "    .dataframe thead th {\n",
       "        text-align: right;\n",
       "    }\n",
       "</style>\n",
       "<table border=\"1\" class=\"dataframe\">\n",
       "  <thead>\n",
       "    <tr style=\"text-align: right;\">\n",
       "      <th></th>\n",
       "      <th>2015</th>\n",
       "      <th>2016</th>\n",
       "      <th>2017</th>\n",
       "      <th>2018</th>\n",
       "      <th>Total</th>\n",
       "    </tr>\n",
       "    <tr>\n",
       "      <th>Team</th>\n",
       "      <th></th>\n",
       "      <th></th>\n",
       "      <th></th>\n",
       "      <th></th>\n",
       "      <th></th>\n",
       "    </tr>\n",
       "  </thead>\n",
       "  <tbody>\n",
       "    <tr>\n",
       "      <th>ARI</th>\n",
       "      <td>73.35</td>\n",
       "      <td>71.45</td>\n",
       "      <td>70.97</td>\n",
       "      <td>69.99</td>\n",
       "      <td>71.44</td>\n",
       "    </tr>\n",
       "    <tr>\n",
       "      <th>ATL</th>\n",
       "      <td>73.58</td>\n",
       "      <td>70.99</td>\n",
       "      <td>72.21</td>\n",
       "      <td>72.19</td>\n",
       "      <td>72.24</td>\n",
       "    </tr>\n",
       "    <tr>\n",
       "      <th>BAL</th>\n",
       "      <td>74.10</td>\n",
       "      <td>72.66</td>\n",
       "      <td>71.36</td>\n",
       "      <td>72.77</td>\n",
       "      <td>72.72</td>\n",
       "    </tr>\n",
       "    <tr>\n",
       "      <th>BUF</th>\n",
       "      <td>73.22</td>\n",
       "      <td>72.35</td>\n",
       "      <td>71.83</td>\n",
       "      <td>71.92</td>\n",
       "      <td>72.33</td>\n",
       "    </tr>\n",
       "    <tr>\n",
       "      <th>CAR</th>\n",
       "      <td>73.77</td>\n",
       "      <td>72.03</td>\n",
       "      <td>72.03</td>\n",
       "      <td>72.00</td>\n",
       "      <td>72.46</td>\n",
       "    </tr>\n",
       "  </tbody>\n",
       "</table>\n",
       "</div>"
      ],
      "text/plain": [
       "       2015   2016   2017   2018  Total\n",
       "Team                                   \n",
       "ARI   73.35  71.45  70.97  69.99  71.44\n",
       "ATL   73.58  70.99  72.21  72.19  72.24\n",
       "BAL   74.10  72.66  71.36  72.77  72.72\n",
       "BUF   73.22  72.35  71.83  71.92  72.33\n",
       "CAR   73.77  72.03  72.03  72.00  72.46"
      ]
     },
     "execution_count": 88,
     "metadata": {},
     "output_type": "execute_result"
    }
   ],
   "source": [
    "# Create subgroups for the average overall points of each team in each year\n",
    "team_overall_2015 = final_2015_df.groupby([\"Team\"])[\"Overall\"].mean()\n",
    "team_overall_2016 = final_2016_df.groupby([\"Team\"])[\"Overall\"].mean()\n",
    "team_overall_2017 = final_2017_df.groupby([\"Team\"])[\"Overall\"].mean()\n",
    "team_overall_2018 = final_2018_df.groupby([\"Team\"])[\"Overall\"].mean()\n",
    "\n",
    "# Put the average overall points into a dataframe & Round the results to 2 decimal place\n",
    "team_overall_summary = round(pd.DataFrame({\"2015\" : team_overall_2015,\n",
    "                        \"2016\" : team_overall_2016,\n",
    "                        \"2017\" : team_overall_2017,\n",
    "                        \"2018\" : team_overall_2018}), 2)\n",
    "\n",
    "# Calculate the overall average for each team over 4 years\n",
    "team_overall_summary[\"Total\"] = round(team_overall_summary.agg([\"mean\"], axis=\"columns\"), 2)\n",
    "\n",
    "team_overall_summary.head()"
   ]
  },
  {
   "cell_type": "code",
   "execution_count": 90,
   "metadata": {},
   "outputs": [],
   "source": [
    "# Replace the team name: PHL to PHI & NYJ to NJY\n",
    "team_standings_2015_df = team_standings_2015_df.replace(\"PHL\", \"PHI\")\n",
    "team_standings_2016_df = team_standings_2016_df.replace(\"PHL\", \"PHI\")\n",
    "team_standings_2017_df = team_standings_2017_df.replace(\"PHL\", \"PHI\")\n",
    "team_standings_2018_df = team_standings_2018_df.replace(\"PHL\", \"PHI\")\n",
    "\n",
    "team_standings_2015_df = team_standings_2015_df.replace(\"NYJ\", \"NJY\")\n",
    "team_standings_2016_df = team_standings_2016_df.replace(\"NYJ\", \"NJY\")\n",
    "team_standings_2017_df = team_standings_2017_df.replace(\"NYJ\", \"NJY\")\n",
    "team_standings_2018_df = team_standings_2018_df.replace(\"NYJ\", \"NJY\")\n",
    "\n",
    "# Replace nan in Playoff Rank with zero\n",
    "team_standings_2015_df[\"Playoff Rank\"] = team_standings_2015_df[\"Playoff Rank\"].fillna(0)\n",
    "team_standings_2016_df[\"Playoff Rank\"] = team_standings_2016_df[\"Playoff Rank\"].fillna(0)\n",
    "team_standings_2017_df[\"Playoff Rank\"] = team_standings_2017_df[\"Playoff Rank\"].fillna(0)\n",
    "team_standings_2018_df[\"Playoff Rank\"] = team_standings_2018_df[\"Playoff Rank\"].fillna(0)\n",
    "\n",
    "# Convert float to integer\n",
    "team_standings_2015_df[\"Playoff Rank\"] = team_standings_2015_df[\"Playoff Rank\"].astype(int)\n",
    "team_standings_2016_df[\"Playoff Rank\"] = team_standings_2016_df[\"Playoff Rank\"].astype(int)\n",
    "team_standings_2017_df[\"Playoff Rank\"] = team_standings_2017_df[\"Playoff Rank\"].astype(int)\n",
    "team_standings_2018_df[\"Playoff Rank\"] = team_standings_2018_df[\"Playoff Rank\"].astype(int)\n"
   ]
  },
  {
   "cell_type": "markdown",
   "metadata": {},
   "source": [
    "### Madden Ratings vs Wins"
   ]
  },
  {
   "cell_type": "code",
   "execution_count": 84,
   "metadata": {},
   "outputs": [
    {
     "data": {
      "text/html": [
       "<div>\n",
       "<style scoped>\n",
       "    .dataframe tbody tr th:only-of-type {\n",
       "        vertical-align: middle;\n",
       "    }\n",
       "\n",
       "    .dataframe tbody tr th {\n",
       "        vertical-align: top;\n",
       "    }\n",
       "\n",
       "    .dataframe thead th {\n",
       "        text-align: right;\n",
       "    }\n",
       "</style>\n",
       "<table border=\"1\" class=\"dataframe\">\n",
       "  <thead>\n",
       "    <tr style=\"text-align: right;\">\n",
       "      <th></th>\n",
       "      <th>2015</th>\n",
       "      <th>2016</th>\n",
       "      <th>2017</th>\n",
       "      <th>2018</th>\n",
       "      <th>Total</th>\n",
       "    </tr>\n",
       "    <tr>\n",
       "      <th>Team</th>\n",
       "      <th></th>\n",
       "      <th></th>\n",
       "      <th></th>\n",
       "      <th></th>\n",
       "      <th></th>\n",
       "    </tr>\n",
       "  </thead>\n",
       "  <tbody>\n",
       "    <tr>\n",
       "      <th>ARI</th>\n",
       "      <td>13</td>\n",
       "      <td>7</td>\n",
       "      <td>8</td>\n",
       "      <td>3</td>\n",
       "      <td>7.75</td>\n",
       "    </tr>\n",
       "    <tr>\n",
       "      <th>ATL</th>\n",
       "      <td>8</td>\n",
       "      <td>11</td>\n",
       "      <td>10</td>\n",
       "      <td>7</td>\n",
       "      <td>9.00</td>\n",
       "    </tr>\n",
       "    <tr>\n",
       "      <th>BAL</th>\n",
       "      <td>5</td>\n",
       "      <td>8</td>\n",
       "      <td>9</td>\n",
       "      <td>10</td>\n",
       "      <td>8.00</td>\n",
       "    </tr>\n",
       "    <tr>\n",
       "      <th>BUF</th>\n",
       "      <td>8</td>\n",
       "      <td>7</td>\n",
       "      <td>9</td>\n",
       "      <td>6</td>\n",
       "      <td>7.50</td>\n",
       "    </tr>\n",
       "    <tr>\n",
       "      <th>CAR</th>\n",
       "      <td>15</td>\n",
       "      <td>6</td>\n",
       "      <td>11</td>\n",
       "      <td>7</td>\n",
       "      <td>9.75</td>\n",
       "    </tr>\n",
       "  </tbody>\n",
       "</table>\n",
       "</div>"
      ],
      "text/plain": [
       "      2015  2016  2017  2018  Total\n",
       "Team                               \n",
       "ARI     13     7     8     3   7.75\n",
       "ATL      8    11    10     7   9.00\n",
       "BAL      5     8     9    10   8.00\n",
       "BUF      8     7     9     6   7.50\n",
       "CAR     15     6    11     7   9.75"
      ]
     },
     "execution_count": 84,
     "metadata": {},
     "output_type": "execute_result"
    }
   ],
   "source": [
    "# Calculate the average wins for each team in each year\n",
    "win_2015 = team_standings_2015_df.groupby([\"Team\"])[\"W\"].mean()\n",
    "win_2016 = team_standings_2016_df.groupby([\"Team\"])[\"W\"].mean()\n",
    "win_2017 = team_standings_2017_df.groupby([\"Team\"])[\"W\"].mean()\n",
    "win_2018 = team_standings_2018_df.groupby([\"Team\"])[\"W\"].mean()\n",
    "\n",
    "# Put results into a dataframe\n",
    "win_summary = pd.DataFrame({\"2015\" : win_2015,\n",
    "                        \"2016\" : win_2016,\n",
    "                        \"2017\" : win_2017,\n",
    "                        \"2018\" : win_2018})\n",
    "\n",
    "# Calculate the total average of wins for each team over 4 years\n",
    "win_summary[\"Total\"] = win_summary.agg([\"mean\"], axis=\"columns\")\n",
    "\n",
    "win_summary.head()"
   ]
  },
  {
   "cell_type": "code",
   "execution_count": 98,
   "metadata": {
    "scrolled": true
   },
   "outputs": [
    {
     "data": {
      "text/html": [
       "<div>\n",
       "<style scoped>\n",
       "    .dataframe tbody tr th:only-of-type {\n",
       "        vertical-align: middle;\n",
       "    }\n",
       "\n",
       "    .dataframe tbody tr th {\n",
       "        vertical-align: top;\n",
       "    }\n",
       "\n",
       "    .dataframe thead th {\n",
       "        text-align: right;\n",
       "    }\n",
       "</style>\n",
       "<table border=\"1\" class=\"dataframe\">\n",
       "  <thead>\n",
       "    <tr style=\"text-align: right;\">\n",
       "      <th></th>\n",
       "      <th>Team</th>\n",
       "      <th>2015_All</th>\n",
       "      <th>2016_All</th>\n",
       "      <th>2017_All</th>\n",
       "      <th>2018_All</th>\n",
       "      <th>Total_All</th>\n",
       "      <th>2015_Win</th>\n",
       "      <th>2016_Win</th>\n",
       "      <th>2017_Win</th>\n",
       "      <th>2018_Win</th>\n",
       "      <th>Total_Win</th>\n",
       "    </tr>\n",
       "  </thead>\n",
       "  <tbody>\n",
       "    <tr>\n",
       "      <th>0</th>\n",
       "      <td>ARI</td>\n",
       "      <td>73.35</td>\n",
       "      <td>71.45</td>\n",
       "      <td>70.97</td>\n",
       "      <td>69.99</td>\n",
       "      <td>71.44</td>\n",
       "      <td>13</td>\n",
       "      <td>7</td>\n",
       "      <td>8</td>\n",
       "      <td>3</td>\n",
       "      <td>7.75</td>\n",
       "    </tr>\n",
       "    <tr>\n",
       "      <th>1</th>\n",
       "      <td>ATL</td>\n",
       "      <td>73.58</td>\n",
       "      <td>70.99</td>\n",
       "      <td>72.21</td>\n",
       "      <td>72.19</td>\n",
       "      <td>72.24</td>\n",
       "      <td>8</td>\n",
       "      <td>11</td>\n",
       "      <td>10</td>\n",
       "      <td>7</td>\n",
       "      <td>9.00</td>\n",
       "    </tr>\n",
       "    <tr>\n",
       "      <th>2</th>\n",
       "      <td>BAL</td>\n",
       "      <td>74.10</td>\n",
       "      <td>72.66</td>\n",
       "      <td>71.36</td>\n",
       "      <td>72.77</td>\n",
       "      <td>72.72</td>\n",
       "      <td>5</td>\n",
       "      <td>8</td>\n",
       "      <td>9</td>\n",
       "      <td>10</td>\n",
       "      <td>8.00</td>\n",
       "    </tr>\n",
       "    <tr>\n",
       "      <th>3</th>\n",
       "      <td>BUF</td>\n",
       "      <td>73.22</td>\n",
       "      <td>72.35</td>\n",
       "      <td>71.83</td>\n",
       "      <td>71.92</td>\n",
       "      <td>72.33</td>\n",
       "      <td>8</td>\n",
       "      <td>7</td>\n",
       "      <td>9</td>\n",
       "      <td>6</td>\n",
       "      <td>7.50</td>\n",
       "    </tr>\n",
       "    <tr>\n",
       "      <th>4</th>\n",
       "      <td>CAR</td>\n",
       "      <td>73.77</td>\n",
       "      <td>72.03</td>\n",
       "      <td>72.03</td>\n",
       "      <td>72.00</td>\n",
       "      <td>72.46</td>\n",
       "      <td>15</td>\n",
       "      <td>6</td>\n",
       "      <td>11</td>\n",
       "      <td>7</td>\n",
       "      <td>9.75</td>\n",
       "    </tr>\n",
       "  </tbody>\n",
       "</table>\n",
       "</div>"
      ],
      "text/plain": [
       "  Team  2015_All  2016_All  2017_All  2018_All  Total_All  2015_Win  2016_Win  \\\n",
       "0  ARI     73.35     71.45     70.97     69.99      71.44        13         7   \n",
       "1  ATL     73.58     70.99     72.21     72.19      72.24         8        11   \n",
       "2  BAL     74.10     72.66     71.36     72.77      72.72         5         8   \n",
       "3  BUF     73.22     72.35     71.83     71.92      72.33         8         7   \n",
       "4  CAR     73.77     72.03     72.03     72.00      72.46        15         6   \n",
       "\n",
       "   2017_Win  2018_Win  Total_Win  \n",
       "0         8         3       7.75  \n",
       "1        10         7       9.00  \n",
       "2         9        10       8.00  \n",
       "3         9         6       7.50  \n",
       "4        11         7       9.75  "
      ]
     },
     "execution_count": 98,
     "metadata": {},
     "output_type": "execute_result"
    }
   ],
   "source": [
    "# Reset the index\n",
    "table1 = team_overall_summary.reset_index()\n",
    "table2 = win_summary.reset_index().rename(columns={\"index\" : \"Team\"})\n",
    "\n",
    "# Merge 2 dataframes\n",
    "win_overall = pd.merge(table1, table2, on=\"Team\", how=\"outer\", suffixes=('_All', '_Win'))\n",
    "\n",
    "win_overall.head()"
   ]
  },
  {
   "cell_type": "code",
   "execution_count": 99,
   "metadata": {},
   "outputs": [
    {
     "data": {
      "image/png": "[encoded data removed]",
      "text/plain": [
       "<Figure size 720x504 with 2 Axes>"
      ]
     },
     "metadata": {
      "needs_background": "light"
     },
     "output_type": "display_data"
    }
   ],
   "source": [
    "# Calculate the correlation among variables\n",
    "win_overall_corr = round(win_overall.corr(), 2)\n",
    "\n",
    "# Plot the correlation heatmap\n",
    "fig, ax = plt.subplots(figsize=(10, 7))\n",
    "ax = sns.heatmap(win_overall_corr, cmap=\"YlGnBu\", linewidths=.4, annot=True)\n",
    "ax.set_title(\"Madden Rating vs Wins (Average)\", fontsize = 16)\n",
    "\n",
    "fig.savefig(\"Figure2 - Madden Rating vs Wins\")"
   ]
  },
  {
   "cell_type": "code",
   "execution_count": 95,
   "metadata": {},
   "outputs": [
    {
     "data": {
      "text/html": [
       "<div>\n",
       "<style scoped>\n",
       "    .dataframe tbody tr th:only-of-type {\n",
       "        vertical-align: middle;\n",
       "    }\n",
       "\n",
       "    .dataframe tbody tr th {\n",
       "        vertical-align: top;\n",
       "    }\n",
       "\n",
       "    .dataframe thead th {\n",
       "        text-align: right;\n",
       "    }\n",
       "</style>\n",
       "<table border=\"1\" class=\"dataframe\">\n",
       "  <thead>\n",
       "    <tr style=\"text-align: right;\">\n",
       "      <th></th>\n",
       "      <th>2015</th>\n",
       "      <th>2016</th>\n",
       "      <th>2017</th>\n",
       "      <th>2018</th>\n",
       "      <th>Total</th>\n",
       "    </tr>\n",
       "    <tr>\n",
       "      <th>Team</th>\n",
       "      <th></th>\n",
       "      <th></th>\n",
       "      <th></th>\n",
       "      <th></th>\n",
       "      <th></th>\n",
       "    </tr>\n",
       "  </thead>\n",
       "  <tbody>\n",
       "    <tr>\n",
       "      <th>ARI</th>\n",
       "      <td>489</td>\n",
       "      <td>418</td>\n",
       "      <td>295</td>\n",
       "      <td>225</td>\n",
       "      <td>356.75</td>\n",
       "    </tr>\n",
       "    <tr>\n",
       "      <th>ATL</th>\n",
       "      <td>339</td>\n",
       "      <td>540</td>\n",
       "      <td>353</td>\n",
       "      <td>414</td>\n",
       "      <td>411.50</td>\n",
       "    </tr>\n",
       "    <tr>\n",
       "      <th>BAL</th>\n",
       "      <td>328</td>\n",
       "      <td>343</td>\n",
       "      <td>395</td>\n",
       "      <td>389</td>\n",
       "      <td>363.75</td>\n",
       "    </tr>\n",
       "    <tr>\n",
       "      <th>BUF</th>\n",
       "      <td>379</td>\n",
       "      <td>399</td>\n",
       "      <td>302</td>\n",
       "      <td>269</td>\n",
       "      <td>337.25</td>\n",
       "    </tr>\n",
       "    <tr>\n",
       "      <th>CAR</th>\n",
       "      <td>500</td>\n",
       "      <td>369</td>\n",
       "      <td>363</td>\n",
       "      <td>376</td>\n",
       "      <td>402.00</td>\n",
       "    </tr>\n",
       "  </tbody>\n",
       "</table>\n",
       "</div>"
      ],
      "text/plain": [
       "      2015  2016  2017  2018   Total\n",
       "Team                                \n",
       "ARI    489   418   295   225  356.75\n",
       "ATL    339   540   353   414  411.50\n",
       "BAL    328   343   395   389  363.75\n",
       "BUF    379   399   302   269  337.25\n",
       "CAR    500   369   363   376  402.00"
      ]
     },
     "execution_count": 95,
     "metadata": {},
     "output_type": "execute_result"
    }
   ],
   "source": [
    "# Calculate the average wins for each team in each year\n",
    "points_for_2015 = team_standings_2015_df.groupby([\"Team\"])[\"PF\"].mean()\n",
    "points_for_2016 = team_standings_2016_df.groupby([\"Team\"])[\"PF\"].mean()\n",
    "points_for_2017 = team_standings_2017_df.groupby([\"Team\"])[\"PF\"].mean()\n",
    "points_for_2018 = team_standings_2018_df.groupby([\"Team\"])[\"PF\"].mean()\n",
    "\n",
    "# Put results into a dataframe\n",
    "points_for_summary = pd.DataFrame({\"2015\" : points_for_2015,\n",
    "                        \"2016\" : points_for_2016,\n",
    "                        \"2017\" : points_for_2017,\n",
    "                        \"2018\" : points_for_2018})\n",
    "\n",
    "# Calculate the total average of wins for each team over 4 years\n",
    "points_for_summary[\"Total\"] = points_for_summary.agg([\"mean\"], axis=\"columns\")\n",
    "\n",
    "points_for_summary.head()"
   ]
  },
  {
   "cell_type": "code",
   "execution_count": 96,
   "metadata": {},
   "outputs": [
    {
     "data": {
      "text/html": [
       "<div>\n",
       "<style scoped>\n",
       "    .dataframe tbody tr th:only-of-type {\n",
       "        vertical-align: middle;\n",
       "    }\n",
       "\n",
       "    .dataframe tbody tr th {\n",
       "        vertical-align: top;\n",
       "    }\n",
       "\n",
       "    .dataframe thead th {\n",
       "        text-align: right;\n",
       "    }\n",
       "</style>\n",
       "<table border=\"1\" class=\"dataframe\">\n",
       "  <thead>\n",
       "    <tr style=\"text-align: right;\">\n",
       "      <th></th>\n",
       "      <th>Team</th>\n",
       "      <th>2015_All</th>\n",
       "      <th>2016_All</th>\n",
       "      <th>2017_All</th>\n",
       "      <th>2018_All</th>\n",
       "      <th>Total_All</th>\n",
       "      <th>2015_PF</th>\n",
       "      <th>2016_PF</th>\n",
       "      <th>2017_PF</th>\n",
       "      <th>2018_PF</th>\n",
       "      <th>Total_PF</th>\n",
       "    </tr>\n",
       "  </thead>\n",
       "  <tbody>\n",
       "    <tr>\n",
       "      <th>0</th>\n",
       "      <td>ARI</td>\n",
       "      <td>73.35</td>\n",
       "      <td>71.45</td>\n",
       "      <td>70.97</td>\n",
       "      <td>69.99</td>\n",
       "      <td>71.44</td>\n",
       "      <td>489</td>\n",
       "      <td>418</td>\n",
       "      <td>295</td>\n",
       "      <td>225</td>\n",
       "      <td>356.75</td>\n",
       "    </tr>\n",
       "    <tr>\n",
       "      <th>1</th>\n",
       "      <td>ATL</td>\n",
       "      <td>73.58</td>\n",
       "      <td>70.99</td>\n",
       "      <td>72.21</td>\n",
       "      <td>72.19</td>\n",
       "      <td>72.24</td>\n",
       "      <td>339</td>\n",
       "      <td>540</td>\n",
       "      <td>353</td>\n",
       "      <td>414</td>\n",
       "      <td>411.50</td>\n",
       "    </tr>\n",
       "    <tr>\n",
       "      <th>2</th>\n",
       "      <td>BAL</td>\n",
       "      <td>74.10</td>\n",
       "      <td>72.66</td>\n",
       "      <td>71.36</td>\n",
       "      <td>72.77</td>\n",
       "      <td>72.72</td>\n",
       "      <td>328</td>\n",
       "      <td>343</td>\n",
       "      <td>395</td>\n",
       "      <td>389</td>\n",
       "      <td>363.75</td>\n",
       "    </tr>\n",
       "    <tr>\n",
       "      <th>3</th>\n",
       "      <td>BUF</td>\n",
       "      <td>73.22</td>\n",
       "      <td>72.35</td>\n",
       "      <td>71.83</td>\n",
       "      <td>71.92</td>\n",
       "      <td>72.33</td>\n",
       "      <td>379</td>\n",
       "      <td>399</td>\n",
       "      <td>302</td>\n",
       "      <td>269</td>\n",
       "      <td>337.25</td>\n",
       "    </tr>\n",
       "    <tr>\n",
       "      <th>4</th>\n",
       "      <td>CAR</td>\n",
       "      <td>73.77</td>\n",
       "      <td>72.03</td>\n",
       "      <td>72.03</td>\n",
       "      <td>72.00</td>\n",
       "      <td>72.46</td>\n",
       "      <td>500</td>\n",
       "      <td>369</td>\n",
       "      <td>363</td>\n",
       "      <td>376</td>\n",
       "      <td>402.00</td>\n",
       "    </tr>\n",
       "  </tbody>\n",
       "</table>\n",
       "</div>"
      ],
      "text/plain": [
       "  Team  2015_All  2016_All  2017_All  2018_All  Total_All  2015_PF  2016_PF  \\\n",
       "0  ARI     73.35     71.45     70.97     69.99      71.44      489      418   \n",
       "1  ATL     73.58     70.99     72.21     72.19      72.24      339      540   \n",
       "2  BAL     74.10     72.66     71.36     72.77      72.72      328      343   \n",
       "3  BUF     73.22     72.35     71.83     71.92      72.33      379      399   \n",
       "4  CAR     73.77     72.03     72.03     72.00      72.46      500      369   \n",
       "\n",
       "   2017_PF  2018_PF  Total_PF  \n",
       "0      295      225    356.75  \n",
       "1      353      414    411.50  \n",
       "2      395      389    363.75  \n",
       "3      302      269    337.25  \n",
       "4      363      376    402.00  "
      ]
     },
     "execution_count": 96,
     "metadata": {},
     "output_type": "execute_result"
    }
   ],
   "source": [
    "table3 = points_for_summary.reset_index()\n",
    "overall_points = pd.merge(table1, table3, on=\"Team\", how=\"outer\", suffixes=('_All', '_PF'))\n",
    "overall_points.head()"
   ]
  },
  {
   "cell_type": "code",
   "execution_count": 97,
   "metadata": {},
   "outputs": [
    {
     "data": {
      "image/png": "[encoded data removed]",
      "text/plain": [
       "<Figure size 720x504 with 2 Axes>"
      ]
     },
     "metadata": {
      "needs_background": "light"
     },
     "output_type": "display_data"
    }
   ],
   "source": [
    "overall_points_corr = round(overall_points.corr(), 2)\n",
    "\n",
    "# Plot the correlation heatmap\n",
    "fig, ax = plt.subplots(figsize=(10, 7))\n",
    "ax = sns.heatmap(overall_points_corr, linewidths=.4, annot=True)\n",
    "ax.set_title(\"Madden Ratings vs Points For\", fontsize = 16)\n",
    "\n",
    "fig.savefig(\"Figure3 - Madden Rating vs Points For\")"
   ]
  },
  {
   "cell_type": "code",
   "execution_count": null,
   "metadata": {},
   "outputs": [],
   "source": []
  },
  {
   "cell_type": "code",
   "execution_count": null,
   "metadata": {},
   "outputs": [],
   "source": []
  },
  {
   "cell_type": "code",
   "execution_count": null,
   "metadata": {},
   "outputs": [],
   "source": []
  },
  {
   "cell_type": "code",
   "execution_count": null,
   "metadata": {},
   "outputs": [],
   "source": []
  },
  {
   "cell_type": "code",
   "execution_count": null,
   "metadata": {},
   "outputs": [],
   "source": []
  },
  {
   "cell_type": "code",
   "execution_count": null,
   "metadata": {},
   "outputs": [],
   "source": []
  },
  {
   "cell_type": "code",
   "execution_count": null,
   "metadata": {},
   "outputs": [],
   "source": []
  },
  {
   "cell_type": "code",
   "execution_count": null,
   "metadata": {},
   "outputs": [],
   "source": []
  },
  {
   "cell_type": "code",
   "execution_count": null,
   "metadata": {},
   "outputs": [],
   "source": []
  },
  {
   "cell_type": "code",
   "execution_count": null,
   "metadata": {},
   "outputs": [],
   "source": []
  }
 ],
 "metadata": {
  "anaconda-cloud": {},
  "kernelspec": {
   "display_name": "Python 3",
   "language": "python",
   "name": "python3"
  },
  "language_info": {
   "codemirror_mode": {
    "name": "ipython",
    "version": 3
   },
   "file_extension": ".py",
   "mimetype": "text/x-python",
   "name": "python",
   "nbconvert_exporter": "python",
   "pygments_lexer": "ipython3",
   "version": "3.7.3"
  }
 },
 "nbformat": 4,
 "nbformat_minor": 2
}
